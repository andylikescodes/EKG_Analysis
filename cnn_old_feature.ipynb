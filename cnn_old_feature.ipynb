{
 "cells": [
  {
   "cell_type": "code",
   "execution_count": 5,
   "metadata": {
    "collapsed": true,
    "deletable": true,
    "editable": true
   },
   "outputs": [],
   "source": [
    "#import python packages\n",
    "import numpy as np\n",
    "import matplotlib.pyplot as plt\n",
    "import tensorflow as tf\n",
    "import pandas as pd\n",
    "import pickle\n",
    "\n",
    "%matplotlib inline"
   ]
  },
  {
   "cell_type": "code",
   "execution_count": 6,
   "metadata": {
    "collapsed": false,
    "deletable": true,
    "editable": true
   },
   "outputs": [],
   "source": [
    "#import EKG analysis packages\n",
    "import challengeOld as challenge\n",
    "import waveOld as wave"
   ]
  },
  {
   "cell_type": "code",
   "execution_count": 7,
   "metadata": {
    "collapsed": false,
    "deletable": true,
    "editable": true
   },
   "outputs": [],
   "source": [
    "records = wave.getRecords('~', _not=True)"
   ]
  },
  {
   "cell_type": "code",
   "execution_count": 8,
   "metadata": {
    "collapsed": false,
    "deletable": true,
    "editable": true,
    "scrolled": true
   },
   "outputs": [],
   "source": [
    "feat_list = []\n",
    "for record in records[0]:\n",
    "    signal = challenge.Signal(record, wave.load(record))\n",
    "    feat_list.append(challenge.feature_extract(signal))\n"
   ]
  },
  {
   "cell_type": "code",
   "execution_count": 9,
   "metadata": {
    "collapsed": true,
    "deletable": true,
    "editable": true
   },
   "outputs": [],
   "source": [
    "labels=[]\n",
    "for label in records[1]:\n",
    "    if label == 'N':\n",
    "        labels.append(0)\n",
    "    elif label == 'O':\n",
    "        labels.append(1)\n",
    "    elif label == 'A':\n",
    "        labels.append(2)\n",
    "    elif label == '~':\n",
    "        labels.append(3)"
   ]
  },
  {
   "cell_type": "code",
   "execution_count": 10,
   "metadata": {
    "collapsed": false,
    "deletable": true,
    "editable": true
   },
   "outputs": [
    {
     "data": {
      "text/plain": [
       "58"
      ]
     },
     "execution_count": 10,
     "metadata": {},
     "output_type": "execute_result"
    }
   ],
   "source": [
    "len(feat_list[0])"
   ]
  },
  {
   "cell_type": "code",
   "execution_count": 40,
   "metadata": {
    "collapsed": false,
    "deletable": true,
    "editable": true
   },
   "outputs": [],
   "source": [
    "from sklearn.model_selection import train_test_split\n",
    "\n",
    "X_train, X_test, y_train, y_test = train_test_split(feat_list, labels, test_size=0.20, random_state=42)"
   ]
  },
  {
   "cell_type": "code",
   "execution_count": 41,
   "metadata": {
    "collapsed": false,
    "deletable": true,
    "editable": true
   },
   "outputs": [],
   "source": [
    "from sklearn.preprocessing import scale\n",
    "X_train = scale(X_train)\n",
    "X_test = scale(X_test)"
   ]
  },
  {
   "cell_type": "code",
   "execution_count": 42,
   "metadata": {
    "collapsed": true,
    "deletable": true,
    "editable": true
   },
   "outputs": [],
   "source": [
    "from sklearn.decomposition import PCA\n",
    "pca = PCA(n_components=16)\n",
    "pca.fit(X_train)\n",
    "\n",
    "X_train_PCA = pca.transform(X_train)\n",
    "\n"
   ]
  },
  {
   "cell_type": "code",
   "execution_count": 43,
   "metadata": {
    "collapsed": false
   },
   "outputs": [
    {
     "name": "stdout",
     "output_type": "stream",
     "text": [
      "6595\n",
      "0.907729090311\n"
     ]
    }
   ],
   "source": [
    "print (len(X_train_PCA))\n",
    "print (np.sum(pca.explained_variance_ratio_))"
   ]
  },
  {
   "cell_type": "code",
   "execution_count": 44,
   "metadata": {
    "collapsed": true,
    "deletable": true,
    "editable": true
   },
   "outputs": [],
   "source": [
    "pca.fit(X_test)\n",
    "X_test_PCA = pca.transform(X_test)"
   ]
  },
  {
   "cell_type": "code",
   "execution_count": 45,
   "metadata": {
    "collapsed": false,
    "deletable": true,
    "editable": true
   },
   "outputs": [
    {
     "name": "stdout",
     "output_type": "stream",
     "text": [
      "6595\n"
     ]
    }
   ],
   "source": [
    "print (len(X_train_PCA))"
   ]
  },
  {
   "cell_type": "code",
   "execution_count": 53,
   "metadata": {
    "collapsed": true,
    "deletable": true,
    "editable": true
   },
   "outputs": [],
   "source": [
    "EPOCHS = 100\n",
    "BATCH_SIZE = 128\n",
    "learning_rate = 0.0001\n",
    "num_examples = len(X_train)"
   ]
  },
  {
   "cell_type": "code",
   "execution_count": 54,
   "metadata": {
    "collapsed": true,
    "deletable": true,
    "editable": true
   },
   "outputs": [],
   "source": [
    "X = tf.placeholder(tf.float32)\n",
    "y = tf.placeholder(tf.int32)\n",
    "keep_prob = tf.placeholder(tf.float32)\n",
    "one_hot_y = tf.one_hot(y, 4)"
   ]
  },
  {
   "cell_type": "code",
   "execution_count": 71,
   "metadata": {
    "collapsed": false,
    "deletable": true,
    "editable": true
   },
   "outputs": [],
   "source": [
    "fw1 = tf.Variable(tf.truncated_normal([16, 40], mean=0, stddev=0.1))\n",
    "fb1 = tf.Variable(tf.zeros([40]))\n",
    "fw2 = tf.Variable(tf.truncated_normal([40, 40], mean=0, stddev=0.1))\n",
    "fb2 = tf.Variable(tf.zeros([40]))\n",
    "fw3 = tf.Variable(tf.truncated_normal([40, 4], mean=0, stddev=0.1))\n",
    "fb3 = tf.Variable(tf.zeros([4]))\n"
   ]
  },
  {
   "cell_type": "code",
   "execution_count": 72,
   "metadata": {
    "collapsed": false,
    "deletable": true,
    "editable": true
   },
   "outputs": [],
   "source": [
    "#fully connect layer 1, 58 => 80\n",
    "fully_layer_1 = tf.add(tf.matmul(X, fw1), fb1)\n",
    "fully_layer_1 = tf.nn.relu(fully_layer_1)\n",
    "#fully_layer_1 = tf.nn.dropout(fully_layer_1, keep_prob)\n",
    "\n",
    "#fully connect layer 2, 80 => 80\n",
    "fully_layer_2 = tf.add(tf.matmul(fully_layer_1, fw2), fb2)\n",
    "fully_layer_2 = tf.nn.relu(fully_layer_2)\n",
    "#fully_layer_2 = tf.nn.dropout(fully_layer_2, keep_prob)\n",
    "\n",
    "#output layer => 80 => 4\n",
    "logits = tf.add(tf.matmul(fully_layer_2, fw3), fb3)\n"
   ]
  },
  {
   "cell_type": "code",
   "execution_count": 73,
   "metadata": {
    "collapsed": false,
    "deletable": true,
    "editable": true
   },
   "outputs": [],
   "source": [
    "#train the model\n",
    "cross_entropy = tf.nn.softmax_cross_entropy_with_logits(labels=one_hot_y, logits=logits)\n",
    "loss_operation = tf.reduce_mean(cross_entropy)\n",
    "optimizer = tf.train.AdamOptimizer(learning_rate=learning_rate)\n",
    "training_op = optimizer.minimize(loss_operation)\n",
    "\n",
    "#accuracy and loss\n",
    "correct_prediction = tf.equal(tf.argmax(logits,1), tf.argmax(one_hot_y,1))\n",
    "accuracy_operation = tf.reduce_mean(tf.cast(correct_prediction, tf.float32))\n",
    "saver = tf.train.Saver()"
   ]
  },
  {
   "cell_type": "code",
   "execution_count": 74,
   "metadata": {
    "collapsed": true,
    "deletable": true,
    "editable": true
   },
   "outputs": [],
   "source": [
    "def evaluate(X_data, y_data):\n",
    "    num_examples = len(X_data)\n",
    "    total_accuracy = 0\n",
    "    sess = tf.get_default_session()\n",
    "    for offset in range(0, num_examples, BATCH_SIZE):\n",
    "        batch_X, batch_y = X_data[offset:offset+BATCH_SIZE], y_data[offset:offset+BATCH_SIZE]\n",
    "        accuracy = sess.run(accuracy_operation, feed_dict={X: batch_X, y: batch_y})\n",
    "        total_accuracy += (accuracy * len(batch_X))\n",
    "    return total_accuracy / num_examples"
   ]
  },
  {
   "cell_type": "code",
   "execution_count": 75,
   "metadata": {
    "collapsed": false,
    "deletable": true,
    "editable": true,
    "scrolled": false
   },
   "outputs": [
    {
     "name": "stdout",
     "output_type": "stream",
     "text": [
      "EPOCHS 1..\n",
      "validation_accuracy = 0.054\n",
      "\n",
      "EPOCHS 2..\n",
      "validation_accuracy = 0.058\n",
      "\n",
      "EPOCHS 3..\n",
      "validation_accuracy = 0.061\n",
      "\n",
      "EPOCHS 4..\n",
      "validation_accuracy = 0.065\n",
      "\n",
      "EPOCHS 5..\n",
      "validation_accuracy = 0.068\n",
      "\n",
      "EPOCHS 6..\n",
      "validation_accuracy = 0.072\n",
      "\n",
      "EPOCHS 7..\n",
      "validation_accuracy = 0.075\n",
      "\n",
      "EPOCHS 8..\n",
      "validation_accuracy = 0.082\n",
      "\n",
      "EPOCHS 9..\n",
      "validation_accuracy = 0.088\n",
      "\n",
      "EPOCHS 10..\n",
      "validation_accuracy = 0.091\n",
      "\n",
      "EPOCHS 11..\n",
      "validation_accuracy = 0.098\n",
      "\n",
      "EPOCHS 12..\n",
      "validation_accuracy = 0.102\n",
      "\n",
      "EPOCHS 13..\n",
      "validation_accuracy = 0.107\n",
      "\n",
      "EPOCHS 14..\n",
      "validation_accuracy = 0.110\n",
      "\n",
      "EPOCHS 15..\n",
      "validation_accuracy = 0.121\n",
      "\n",
      "EPOCHS 16..\n",
      "validation_accuracy = 0.126\n",
      "\n",
      "EPOCHS 17..\n",
      "validation_accuracy = 0.130\n",
      "\n",
      "EPOCHS 18..\n",
      "validation_accuracy = 0.139\n",
      "\n",
      "EPOCHS 19..\n",
      "validation_accuracy = 0.144\n",
      "\n",
      "EPOCHS 20..\n",
      "validation_accuracy = 0.151\n",
      "\n",
      "EPOCHS 21..\n",
      "validation_accuracy = 0.155\n",
      "\n",
      "EPOCHS 22..\n",
      "validation_accuracy = 0.163\n",
      "\n",
      "EPOCHS 23..\n",
      "validation_accuracy = 0.171\n",
      "\n",
      "EPOCHS 24..\n",
      "validation_accuracy = 0.176\n",
      "\n",
      "EPOCHS 25..\n",
      "validation_accuracy = 0.185\n",
      "\n",
      "EPOCHS 26..\n",
      "validation_accuracy = 0.193\n",
      "\n",
      "EPOCHS 27..\n",
      "validation_accuracy = 0.197\n",
      "\n",
      "EPOCHS 28..\n",
      "validation_accuracy = 0.206\n",
      "\n",
      "EPOCHS 29..\n",
      "validation_accuracy = 0.213\n",
      "\n",
      "EPOCHS 30..\n",
      "validation_accuracy = 0.221\n",
      "\n",
      "EPOCHS 31..\n",
      "validation_accuracy = 0.234\n",
      "\n",
      "EPOCHS 32..\n",
      "validation_accuracy = 0.243\n",
      "\n",
      "EPOCHS 33..\n",
      "validation_accuracy = 0.255\n",
      "\n",
      "EPOCHS 34..\n",
      "validation_accuracy = 0.266\n",
      "\n",
      "EPOCHS 35..\n",
      "validation_accuracy = 0.277\n",
      "\n",
      "EPOCHS 36..\n",
      "validation_accuracy = 0.285\n",
      "\n",
      "EPOCHS 37..\n",
      "validation_accuracy = 0.295\n",
      "\n",
      "EPOCHS 38..\n",
      "validation_accuracy = 0.309\n",
      "\n",
      "EPOCHS 39..\n",
      "validation_accuracy = 0.318\n",
      "\n",
      "EPOCHS 40..\n",
      "validation_accuracy = 0.329\n",
      "\n",
      "EPOCHS 41..\n",
      "validation_accuracy = 0.338\n",
      "\n",
      "EPOCHS 42..\n",
      "validation_accuracy = 0.352\n",
      "\n",
      "EPOCHS 43..\n",
      "validation_accuracy = 0.367\n",
      "\n",
      "EPOCHS 44..\n",
      "validation_accuracy = 0.380\n",
      "\n",
      "EPOCHS 45..\n",
      "validation_accuracy = 0.392\n",
      "\n",
      "EPOCHS 46..\n",
      "validation_accuracy = 0.406\n",
      "\n",
      "EPOCHS 47..\n",
      "validation_accuracy = 0.421\n",
      "\n",
      "EPOCHS 48..\n",
      "validation_accuracy = 0.432\n",
      "\n",
      "EPOCHS 49..\n",
      "validation_accuracy = 0.445\n",
      "\n",
      "EPOCHS 50..\n",
      "validation_accuracy = 0.457\n",
      "\n",
      "EPOCHS 51..\n",
      "validation_accuracy = 0.470\n",
      "\n",
      "EPOCHS 52..\n",
      "validation_accuracy = 0.483\n",
      "\n",
      "EPOCHS 53..\n",
      "validation_accuracy = 0.491\n",
      "\n",
      "EPOCHS 54..\n",
      "validation_accuracy = 0.498\n",
      "\n",
      "EPOCHS 55..\n",
      "validation_accuracy = 0.506\n",
      "\n",
      "EPOCHS 56..\n",
      "validation_accuracy = 0.513\n",
      "\n",
      "EPOCHS 57..\n",
      "validation_accuracy = 0.518\n",
      "\n",
      "EPOCHS 58..\n",
      "validation_accuracy = 0.526\n",
      "\n",
      "EPOCHS 59..\n",
      "validation_accuracy = 0.529\n",
      "\n",
      "EPOCHS 60..\n",
      "validation_accuracy = 0.540\n",
      "\n",
      "EPOCHS 61..\n",
      "validation_accuracy = 0.544\n",
      "\n",
      "EPOCHS 62..\n",
      "validation_accuracy = 0.550\n",
      "\n",
      "EPOCHS 63..\n",
      "validation_accuracy = 0.554\n",
      "\n",
      "EPOCHS 64..\n",
      "validation_accuracy = 0.559\n",
      "\n",
      "EPOCHS 65..\n",
      "validation_accuracy = 0.562\n",
      "\n",
      "EPOCHS 66..\n",
      "validation_accuracy = 0.564\n",
      "\n",
      "EPOCHS 67..\n",
      "validation_accuracy = 0.565\n",
      "\n",
      "EPOCHS 68..\n",
      "validation_accuracy = 0.566\n",
      "\n",
      "EPOCHS 69..\n",
      "validation_accuracy = 0.569\n",
      "\n",
      "EPOCHS 70..\n",
      "validation_accuracy = 0.569\n",
      "\n",
      "EPOCHS 71..\n",
      "validation_accuracy = 0.571\n",
      "\n",
      "EPOCHS 72..\n",
      "validation_accuracy = 0.572\n",
      "\n",
      "EPOCHS 73..\n",
      "validation_accuracy = 0.572\n",
      "\n",
      "EPOCHS 74..\n",
      "validation_accuracy = 0.572\n",
      "\n",
      "EPOCHS 75..\n",
      "validation_accuracy = 0.575\n",
      "\n",
      "EPOCHS 76..\n",
      "validation_accuracy = 0.577\n",
      "\n",
      "EPOCHS 77..\n",
      "validation_accuracy = 0.577\n",
      "\n",
      "EPOCHS 78..\n",
      "validation_accuracy = 0.577\n",
      "\n",
      "EPOCHS 79..\n",
      "validation_accuracy = 0.580\n",
      "\n",
      "EPOCHS 80..\n",
      "validation_accuracy = 0.581\n",
      "\n",
      "EPOCHS 81..\n",
      "validation_accuracy = 0.584\n",
      "\n",
      "EPOCHS 82..\n",
      "validation_accuracy = 0.585\n",
      "\n",
      "EPOCHS 83..\n",
      "validation_accuracy = 0.588\n",
      "\n",
      "EPOCHS 84..\n",
      "validation_accuracy = 0.589\n",
      "\n",
      "EPOCHS 85..\n",
      "validation_accuracy = 0.591\n",
      "\n",
      "EPOCHS 86..\n",
      "validation_accuracy = 0.593\n",
      "\n",
      "EPOCHS 87..\n",
      "validation_accuracy = 0.594\n",
      "\n",
      "EPOCHS 88..\n",
      "validation_accuracy = 0.595\n",
      "\n",
      "EPOCHS 89..\n",
      "validation_accuracy = 0.595\n",
      "\n",
      "EPOCHS 90..\n",
      "validation_accuracy = 0.594\n",
      "\n",
      "EPOCHS 91..\n",
      "validation_accuracy = 0.594\n",
      "\n",
      "EPOCHS 92..\n",
      "validation_accuracy = 0.596\n",
      "\n",
      "EPOCHS 93..\n",
      "validation_accuracy = 0.596\n",
      "\n",
      "EPOCHS 94..\n",
      "validation_accuracy = 0.597\n",
      "\n",
      "EPOCHS 95..\n",
      "validation_accuracy = 0.596\n",
      "\n",
      "EPOCHS 96..\n",
      "validation_accuracy = 0.594\n",
      "\n",
      "EPOCHS 97..\n",
      "validation_accuracy = 0.594\n",
      "\n",
      "EPOCHS 98..\n",
      "validation_accuracy = 0.594\n",
      "\n",
      "EPOCHS 99..\n",
      "validation_accuracy = 0.594\n",
      "\n",
      "EPOCHS 100..\n",
      "validation_accuracy = 0.593\n",
      "\n",
      "model_saved\n"
     ]
    }
   ],
   "source": [
    "from sklearn.utils import shuffle\n",
    "with tf.Session() as sess:\n",
    "    sess.run(tf.global_variables_initializer())\n",
    "    X_train_PCA, y_train = shuffle(X_train_PCA, y_train)\n",
    "    for i in range(EPOCHS):\n",
    "        sess.run(training_op, feed_dict={X: X_train_PCA, y: y_train})\n",
    "        \n",
    "        validation_accuracy = evaluate(X_test_PCA, y_test)\n",
    "        print ('EPOCHS {}..'.format(i+1))\n",
    "        print ('validation_accuracy = {:.3f}'.format(validation_accuracy))\n",
    "        print ()\n",
    "        \n",
    "    saver.save(sess, 'model')\n",
    "    print ('model_saved')"
   ]
  },
  {
   "cell_type": "code",
   "execution_count": 77,
   "metadata": {
    "collapsed": false,
    "deletable": true,
    "editable": true
   },
   "outputs": [
    {
     "name": "stdout",
     "output_type": "stream",
     "text": [
      "[0 0 0 ..., 1 0 0]\n"
     ]
    }
   ],
   "source": [
    "with tf.Session() as sess:\n",
    "    \n",
    "    saver.restore(sess, tf.train.latest_checkpoint('.'))\n",
    "    predictions = tf.argmax(logits,1)\n",
    "    print(sess.run(predictions, feed_dict={X: X_test_PCA}))"
   ]
  },
  {
   "cell_type": "code",
   "execution_count": null,
   "metadata": {
    "collapsed": true,
    "deletable": true,
    "editable": true
   },
   "outputs": [],
   "source": []
  }
 ],
 "metadata": {
  "kernelspec": {
   "display_name": "Python 3",
   "language": "python",
   "name": "python3"
  },
  "language_info": {
   "codemirror_mode": {
    "name": "ipython",
    "version": 3
   },
   "file_extension": ".py",
   "mimetype": "text/x-python",
   "name": "python",
   "nbconvert_exporter": "python",
   "pygments_lexer": "ipython3",
   "version": "3.5.2"
  },
  "widgets": {
   "state": {},
   "version": "1.1.2"
  }
 },
 "nbformat": 4,
 "nbformat_minor": 2
}
